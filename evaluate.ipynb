{
 "cells": [
  {
   "cell_type": "markdown",
   "metadata": {},
   "source": [
    "## Evaluation Exercises"
   ]
  },
  {
   "cell_type": "markdown",
   "metadata": {},
   "source": [
    "Do you work for this exercise in either a jupyter notebook named evaluate within your regression-exercises repository. By the end of this exercise you will also create a python script named evaluate, so the overall deliverables for this exercise are the python script and jupyter notebook both with the name evaluate within your regression-exercises repo."
   ]
  },
  {
   "cell_type": "code",
   "execution_count": 1,
   "metadata": {},
   "outputs": [],
   "source": [
    "import pandas as pd\n",
    "import numpy as np\n",
    "import math\n",
    "import matplotlib.pyplot as plt\n",
    "from sklearn.linear_model import LinearRegression\n",
    "from sklearn.metrics import r2_score, mean_squared_error\n",
    "from pydataset import data"
   ]
  },
  {
   "cell_type": "markdown",
   "metadata": {},
   "source": [
    "1. Load the tips dataset from either pydataset or seaborn."
   ]
  },
  {
   "cell_type": "code",
   "execution_count": 2,
   "metadata": {},
   "outputs": [],
   "source": [
    "df = data('tips')"
   ]
  },
  {
   "cell_type": "code",
   "execution_count": 3,
   "metadata": {},
   "outputs": [
    {
     "name": "stdout",
     "output_type": "stream",
     "text": [
      "<class 'pandas.core.frame.DataFrame'>\n",
      "Int64Index: 244 entries, 1 to 244\n",
      "Data columns (total 7 columns):\n",
      " #   Column      Non-Null Count  Dtype  \n",
      "---  ------      --------------  -----  \n",
      " 0   total_bill  244 non-null    float64\n",
      " 1   tip         244 non-null    float64\n",
      " 2   sex         244 non-null    object \n",
      " 3   smoker      244 non-null    object \n",
      " 4   day         244 non-null    object \n",
      " 5   time        244 non-null    object \n",
      " 6   size        244 non-null    int64  \n",
      "dtypes: float64(2), int64(1), object(4)\n",
      "memory usage: 15.2+ KB\n"
     ]
    }
   ],
   "source": [
    "# what does it look like?\n",
    "df.info()"
   ]
  },
  {
   "cell_type": "code",
   "execution_count": null,
   "metadata": {},
   "outputs": [],
   "source": [
    "# create a target variable\n",
    "# target = 'tip'\n",
    "# df = df.drop(columns=['sex', 'smoker', 'day', 'time', 'size'])\n",
    "# df.info()"
   ]
  },
  {
   "cell_type": "code",
   "execution_count": 9,
   "metadata": {},
   "outputs": [],
   "source": [
    "# create a target variable\n",
    "target = 'tip'\n",
    "# create a baseline model\n",
    "def baseline_regression(df, target):\n",
    "    '''\n",
    "    This function will take in a dataframe, and predefined target variable (as a string)\n",
    "    and create a 'yhat_baseline' column that is the mean of the target variable.\n",
    "    This will serve as the baseline model to compare against.\n",
    "    '''\n",
    "    df['yhat_baseline'] = df[target].mean()\n",
    "    return df.head(1)"
   ]
  },
  {
   "cell_type": "code",
   "execution_count": 10,
   "metadata": {},
   "outputs": [
    {
     "data": {
      "text/html": [
       "<div>\n",
       "<style scoped>\n",
       "    .dataframe tbody tr th:only-of-type {\n",
       "        vertical-align: middle;\n",
       "    }\n",
       "\n",
       "    .dataframe tbody tr th {\n",
       "        vertical-align: top;\n",
       "    }\n",
       "\n",
       "    .dataframe thead th {\n",
       "        text-align: right;\n",
       "    }\n",
       "</style>\n",
       "<table border=\"1\" class=\"dataframe\">\n",
       "  <thead>\n",
       "    <tr style=\"text-align: right;\">\n",
       "      <th></th>\n",
       "      <th>total_bill</th>\n",
       "      <th>tip</th>\n",
       "      <th>sex</th>\n",
       "      <th>smoker</th>\n",
       "      <th>day</th>\n",
       "      <th>time</th>\n",
       "      <th>size</th>\n",
       "      <th>yhat_baseline</th>\n",
       "      <th>yhat</th>\n",
       "    </tr>\n",
       "  </thead>\n",
       "  <tbody>\n",
       "    <tr>\n",
       "      <th>1</th>\n",
       "      <td>16.99</td>\n",
       "      <td>1.01</td>\n",
       "      <td>Female</td>\n",
       "      <td>No</td>\n",
       "      <td>Sun</td>\n",
       "      <td>Dinner</td>\n",
       "      <td>2</td>\n",
       "      <td>2.998279</td>\n",
       "      <td>2.704636</td>\n",
       "    </tr>\n",
       "  </tbody>\n",
       "</table>\n",
       "</div>"
      ],
      "text/plain": [
       "   total_bill   tip     sex smoker  day    time  size  yhat_baseline      yhat\n",
       "1       16.99  1.01  Female     No  Sun  Dinner     2       2.998279  2.704636"
      ]
     },
     "execution_count": 10,
     "metadata": {},
     "output_type": "execute_result"
    }
   ],
   "source": [
    "baseline_regression(df, target)"
   ]
  },
  {
   "cell_type": "markdown",
   "metadata": {},
   "source": [
    "2. Fit a linear regression model (ordinary least squares) and compute yhat, predictions of tip using total_bill.\n",
    "- Here is some sample code to get you started:"
   ]
  },
  {
   "cell_type": "code",
   "execution_count": null,
   "metadata": {},
   "outputs": [],
   "source": [
    "# from sklearn.linear_model import LinearRegression\n",
    "\n",
    "# assuming X and y are already defined\n",
    "# model = LinearRegression().fit(X, y)\n",
    "# predictions = model.predict(X)"
   ]
  },
  {
   "cell_type": "code",
   "execution_count": 11,
   "metadata": {},
   "outputs": [],
   "source": [
    "# define variable to build model with\n",
    "variables = ['total_bill']\n",
    "# create and fit our LinearRegression model\n",
    "def linear_model(df, variables, target):\n",
    "    '''\n",
    "    This function will take in a dataframe, a predefined variables list\n",
    "    to build the LinearRegression Model on, and a predefined target \n",
    "    variable (as a string). It creates a LinearRegression Model on the list of variables,\n",
    "    and creates a prediction column labeled 'yhat', and finally returns\n",
    "    the head of the dataframe.\n",
    "    '''\n",
    "    model = LinearRegression().fit(df[['total_bill']], df['tip'])\n",
    "    df['yhat'] = model.predict(df[['total_bill']])\n",
    "    return df.head(1)"
   ]
  },
  {
   "cell_type": "code",
   "execution_count": 12,
   "metadata": {},
   "outputs": [
    {
     "data": {
      "text/html": [
       "<div>\n",
       "<style scoped>\n",
       "    .dataframe tbody tr th:only-of-type {\n",
       "        vertical-align: middle;\n",
       "    }\n",
       "\n",
       "    .dataframe tbody tr th {\n",
       "        vertical-align: top;\n",
       "    }\n",
       "\n",
       "    .dataframe thead th {\n",
       "        text-align: right;\n",
       "    }\n",
       "</style>\n",
       "<table border=\"1\" class=\"dataframe\">\n",
       "  <thead>\n",
       "    <tr style=\"text-align: right;\">\n",
       "      <th></th>\n",
       "      <th>total_bill</th>\n",
       "      <th>tip</th>\n",
       "      <th>sex</th>\n",
       "      <th>smoker</th>\n",
       "      <th>day</th>\n",
       "      <th>time</th>\n",
       "      <th>size</th>\n",
       "      <th>yhat_baseline</th>\n",
       "      <th>yhat</th>\n",
       "    </tr>\n",
       "  </thead>\n",
       "  <tbody>\n",
       "    <tr>\n",
       "      <th>1</th>\n",
       "      <td>16.99</td>\n",
       "      <td>1.01</td>\n",
       "      <td>Female</td>\n",
       "      <td>No</td>\n",
       "      <td>Sun</td>\n",
       "      <td>Dinner</td>\n",
       "      <td>2</td>\n",
       "      <td>2.998279</td>\n",
       "      <td>2.704636</td>\n",
       "    </tr>\n",
       "  </tbody>\n",
       "</table>\n",
       "</div>"
      ],
      "text/plain": [
       "   total_bill   tip     sex smoker  day    time  size  yhat_baseline      yhat\n",
       "1       16.99  1.01  Female     No  Sun  Dinner     2       2.998279  2.704636"
      ]
     },
     "execution_count": 12,
     "metadata": {},
     "output_type": "execute_result"
    }
   ],
   "source": [
    "linear_model(df, variables, target)"
   ]
  },
  {
   "cell_type": "markdown",
   "metadata": {},
   "source": [
    "3. Plot the residuals for the linear regression model that you made."
   ]
  },
  {
   "cell_type": "code",
   "execution_count": null,
   "metadata": {},
   "outputs": [],
   "source": [
    "# create the residulas column by subtracting predicted tip from actual tip\n",
    "df['residuals'] = df['tip'] - df['yhat']"
   ]
  },
  {
   "cell_type": "code",
   "execution_count": null,
   "metadata": {},
   "outputs": [],
   "source": [
    "df['residuals'].plot.hist()"
   ]
  },
  {
   "cell_type": "code",
   "execution_count": null,
   "metadata": {},
   "outputs": [],
   "source": [
    "# what would the baseline residuals look like?\n",
    "df['baseline_residuals'] = df['tip'] - df['yhat_baseline']\n",
    "df['baseline_residuals'].plot.hist()"
   ]
  },
  {
   "cell_type": "markdown",
   "metadata": {},
   "source": [
    "4. Calculate the sum of squared errors, explained sum of squares, total sum of squares, mean squared error, and root mean squared error for your model."
   ]
  },
  {
   "cell_type": "code",
   "execution_count": null,
   "metadata": {},
   "outputs": [],
   "source": [
    "# set an n value for number of observations\n",
    "n = df.shape[0]"
   ]
  },
  {
   "cell_type": "code",
   "execution_count": null,
   "metadata": {},
   "outputs": [],
   "source": [
    "# sum of squared errors\n",
    "sse = (df['residuals'] ** 2).sum()\n",
    "sse"
   ]
  },
  {
   "cell_type": "code",
   "execution_count": null,
   "metadata": {},
   "outputs": [],
   "source": [
    "# explained sum of squares\n",
    "ess = ((df['yhat'] - df['tip'].mean())**2).sum()\n",
    "ess"
   ]
  },
  {
   "cell_type": "code",
   "execution_count": null,
   "metadata": {},
   "outputs": [],
   "source": [
    "# total sum of squares\n",
    "tss = ((df['tip'] - df['tip'].mean())**2).sum()\n",
    "tss"
   ]
  },
  {
   "cell_type": "code",
   "execution_count": null,
   "metadata": {},
   "outputs": [],
   "source": [
    "# mean squared error\n",
    "mse = sse / n\n",
    "mse"
   ]
  },
  {
   "cell_type": "code",
   "execution_count": null,
   "metadata": {},
   "outputs": [],
   "source": [
    "# root mean squared error\n",
    "rmse = math.sqrt(mse)\n",
    "rmse"
   ]
  },
  {
   "cell_type": "code",
   "execution_count": null,
   "metadata": {},
   "outputs": [],
   "source": [
    "# r^2 score\n",
    "\n",
    "r_sq = ess / tss\n",
    "r_sq"
   ]
  },
  {
   "cell_type": "markdown",
   "metadata": {},
   "source": [
    "5. Calculate the sum of squared errors, mean squared error, and root mean squared error for the baseline model (i.e. a model that always predicts the average tip amount)."
   ]
  },
  {
   "cell_type": "code",
   "execution_count": null,
   "metadata": {},
   "outputs": [],
   "source": [
    "# baseline sse\n",
    "sse_baseline = (df['baseline_residuals'] ** 2).sum()\n",
    "mse_baseline = sse_baseline / n\n",
    "rmse_baseline = math.sqrt(mse_baseline)\n",
    "\n",
    "print(f'''\n",
    "Baseline:\n",
    "\n",
    "sse:    {sse_baseline}\n",
    "mse:    {mse_baseline}\n",
    "rmse:   {rmse_baseline}\n",
    "''')"
   ]
  },
  {
   "cell_type": "code",
   "execution_count": null,
   "metadata": {},
   "outputs": [],
   "source": [
    "# so what does this all look like?\n",
    "\n",
    "fig, ax = plt.subplots(figsize=(13,7))\n",
    "\n",
    "ax.hist(df['baseline_residuals'], label='baseline residuals', alpha=.6)\n",
    "ax.hist(df['residuals'], label='model residuals', alpha=.6)\n",
    "ax.legend()"
   ]
  },
  {
   "cell_type": "code",
   "execution_count": null,
   "metadata": {},
   "outputs": [],
   "source": [
    "# let's look at actual vs predicted tips\n",
    "\n",
    "fig, ax = plt.subplots(figsize=(13,7))\n",
    "ax.scatter(df['tip'], df['yhat'], label='predicted')\n",
    "ax.set(title='Actual vs Predicted Tip Value', ylabel='Predicted Tip', xlabel='Actual Tip')\n",
    "ax.plot(df['tip'], df['tip'], ls=':', c='gray')"
   ]
  },
  {
   "cell_type": "code",
   "execution_count": null,
   "metadata": {},
   "outputs": [],
   "source": [
    "# now let's look at residuals...\n",
    "fig, ax = plt.subplots(figsize=(13,7))\n",
    "\n",
    "ax.scatter(df['tip'], df['residuals'])\n",
    "ax.set(ylabel='residual', xlabel='actual')\n",
    "ax.hlines(0, *ax.get_xlim(), ls=':', color='gray')"
   ]
  },
  {
   "cell_type": "markdown",
   "metadata": {},
   "source": [
    "6. Write python code that compares the sum of squared errors for your model against the sum of squared errors for the baseline model and outputs whether or not your model performs better than the baseline model."
   ]
  },
  {
   "cell_type": "code",
   "execution_count": null,
   "metadata": {},
   "outputs": [],
   "source": [
    "target = 'tip'\n",
    "variables = ['total_bill']"
   ]
  },
  {
   "cell_type": "code",
   "execution_count": null,
   "metadata": {},
   "outputs": [],
   "source": [
    "# df['residuals'] = df[target] - df['yhat']\n",
    "# df.head()"
   ]
  },
  {
   "cell_type": "code",
   "execution_count": null,
   "metadata": {},
   "outputs": [],
   "source": [
    "def sse_comp(df, variables, target):\n",
    "    '''\n",
    "    This function will take in a pandas DataFrame, and predefiend list of variables to\n",
    "    apply the LinearRegression Model to, as well as a predefined target variable.\n",
    "    This function creates and fits a LinearRegression model, creates a 'yhat' or prediction column,\n",
    "    calculates model residuals. It also creates a baseline model, and calculates baseline\n",
    "    residuals. The Sum of Squared Errors are calculated for the baseline, and the model.\n",
    "    Both are printed out, as well as the improvment in SSE over baseline\n",
    "    '''\n",
    "    # create and fit our LinearRegression model\n",
    "    model = LinearRegression().fit(df[variables], df[target])\n",
    "    # create a yhat/prediction column\n",
    "    df['yhat'] = model.predict(df[variables])\n",
    "    # create the residuals column by subtracting predicted tip from actual tip\n",
    "    df['residuals'] = df[target] - df['yhat']\n",
    "    # sum of squared errors for model\n",
    "    sse = (df['residuals'] ** 2).sum()\n",
    "    # create a baseline model\n",
    "    df['yhat_baseline'] = df[target].mean()\n",
    "    # baseline residuals\n",
    "    df['baseline_residuals'] = df[target] - df['yhat_baseline']\n",
    "    # baseline sse\n",
    "    sse_baseline = (df['baseline_residuals'] ** 2).sum()\n",
    "    print(f'Baseline Model SSE:          {sse_baseline:.2f}')\n",
    "    print(f'Linear Regression Model SSE: {sse:.2f}')\n",
    "    print(f'Improvement over baseline:   {sse_baseline-sse:.2f}')\n",
    "    "
   ]
  },
  {
   "cell_type": "code",
   "execution_count": null,
   "metadata": {},
   "outputs": [],
   "source": [
    "sse_comp(df, variables, target)"
   ]
  },
  {
   "cell_type": "markdown",
   "metadata": {},
   "source": [
    "7. What is the amount of variance explained in your model?"
   ]
  },
  {
   "cell_type": "code",
   "execution_count": null,
   "metadata": {},
   "outputs": [],
   "source": [
    "model_r2 = r2_score(df['tip'], df['yhat'])\n",
    "model_r2.round(4)"
   ]
  },
  {
   "cell_type": "markdown",
   "metadata": {},
   "source": [
    "8. Is your model better than the baseline model?"
   ]
  },
  {
   "cell_type": "code",
   "execution_count": null,
   "metadata": {},
   "outputs": [],
   "source": [
    "baseline_r2 = r2_score(df['tip'], df['yhat_baseline'])\n",
    "\n",
    "print(f'Linear Regression r2_score: {model_r2:.4f}')\n",
    "print(f'Baseline r2_score:          {baseline_r2:.4f}')\n",
    "print(f'Improvement over baseline:  {model_r2-baseline_r2:.4f}')"
   ]
  },
  {
   "cell_type": "code",
   "execution_count": null,
   "metadata": {},
   "outputs": [],
   "source": []
  },
  {
   "cell_type": "markdown",
   "metadata": {},
   "source": [
    "9. Create a file named evaluate.py that contains the following functions.\n",
    "\n",
    "- plot_residuals(y, yhat): creates a residual plot"
   ]
  },
  {
   "cell_type": "code",
   "execution_count": null,
   "metadata": {},
   "outputs": [],
   "source": [
    "def plot_residuals(df, variables, target):\n",
    "    '''\n",
    "        This function will take in a pandas DataFrame, and predefiend list of variables to\n",
    "    apply the LinearRegression Model to, as well as a predefined target variable.\n",
    "    This function creates and fits a LinearRegression model, creates a 'yhat' or prediction column,\n",
    "    calculates model residuals. It also creates a baseline model, and calculates baseline\n",
    "    residuals. These are then plotted in a histogram.\n",
    "    '''\n",
    "     # create and fit our LinearRegression model\n",
    "    model = LinearRegression().fit(df[variables], df[target])\n",
    "    # create a yhat/prediction column\n",
    "    df['yhat'] = model.predict(df[variables])\n",
    "    # create the residuals column by subtracting predicted tip from actual tip\n",
    "    df['residuals'] = df[target] - df['yhat']\n",
    "    # create a baseline model\n",
    "    df['yhat_baseline'] = df[target].mean()\n",
    "    # baseline residuals\n",
    "    df['baseline_residuals'] = df[target] - df['yhat_baseline']\n",
    "    fig, ax = plt.subplots(figsize=(13,7))\n",
    "    ax.hist(df['baseline_residuals'], label='baseline residuals', alpha=.6)\n",
    "    ax.hist(df['residuals'], label='model residuals', alpha=.6)\n",
    "    ax.legend()\n",
    "    return plt.show()"
   ]
  },
  {
   "cell_type": "code",
   "execution_count": null,
   "metadata": {},
   "outputs": [],
   "source": [
    "plot_residuals(df, variables, target)"
   ]
  },
  {
   "cell_type": "markdown",
   "metadata": {},
   "source": [
    "9. - regression_errors(y, yhat): returns the following values:\n",
    "    - sum of squared errors (SSE)\n",
    "    - explained sum of squares (ESS)\n",
    "    - total sum of squares (TSS)\n",
    "    - mean squared error (MSE)\n",
    "    - root mean squared error (RMSE)"
   ]
  },
  {
   "cell_type": "code",
   "execution_count": null,
   "metadata": {},
   "outputs": [],
   "source": [
    "def regression_errors(df, variables, target):\n",
    "    '''\n",
    "    This function will take in a pandas DataFrame, and predefiend list of variables to\n",
    "    apply the LinearRegression Model to, as well as a predefined target variable.\n",
    "    This function creates and fits a LinearRegression model, creates a 'yhat' or prediction column,\n",
    "    calculates model residuals. It will then calculate and print out the SSE,\n",
    "    ESS, TSS, MSE, and RMSE of the model.\n",
    "    '''\n",
    "     # create and fit our LinearRegression model\n",
    "    model = LinearRegression().fit(df[variables], df[target])\n",
    "    # create a yhat/prediction column\n",
    "    df['yhat'] = model.predict(df[variables])\n",
    "    # create the residuals column by subtracting predicted tip from actual tip\n",
    "    df['residuals'] = df[target] - df['yhat']\n",
    "    # set an n value for number of observations\n",
    "    n = df.shape[0]\n",
    "    # sum of squared errors\n",
    "    sse = (df['residuals'] ** 2).sum()\n",
    "    # explained sum of squares\n",
    "    ess = ((df['yhat'] - df['tip'].mean())**2).sum()\n",
    "    # total sum of squares\n",
    "    tss = ((df['tip'] - df['tip'].mean())**2).sum()\n",
    "    # mean squared error\n",
    "    mse = sse / n\n",
    "    # root mean squared error\n",
    "    rmse = mse ** .5\n",
    "    \n",
    "    print(f'    Sum of Square Errors (SSE): {sse:.2f}')\n",
    "    print(f'Explained Sum of Squares (ESS): {ess:.2f}')\n",
    "    print(f'    Total Sum of Squares (TSS): {tss:.2f}')\n",
    "    print(f'      Mean Squared Error (MSE): {mse:.2f}')\n",
    "    print(f'Root Mean Squared Error (RMSE): {rmse:.2f}')\n",
    "    \n",
    "    "
   ]
  },
  {
   "cell_type": "code",
   "execution_count": null,
   "metadata": {},
   "outputs": [],
   "source": [
    "regression_errors(df, variables, target)"
   ]
  },
  {
   "cell_type": "markdown",
   "metadata": {},
   "source": [
    "9. baseline_mean_errors(y): computes the SSE, MSE, and RMSE for the baseline model"
   ]
  },
  {
   "cell_type": "code",
   "execution_count": null,
   "metadata": {},
   "outputs": [],
   "source": [
    "def baseline_mean_errors(df, target):\n",
    "    '''\n",
    "    Takes in a predefined target variable, creates yhat_baseline,\n",
    "    and baseline_residuals. Then calculates and prints out SSE, MSE, and RMSE\n",
    "    for the baseline.\n",
    "    '''\n",
    "    # create a baseline model\n",
    "    df['yhat_baseline'] = df[target].mean()\n",
    "    # baseline residuals\n",
    "    df['baseline_residuals'] = df[target] - df['yhat_baseline']\n",
    "    # set an n value for number of observations\n",
    "    n = df.shape[0]\n",
    "    # baseline sum of squared errors\n",
    "    sse_baseline = (df['baseline_residuals'] ** 2).sum()\n",
    "    # baseline mean squared error\n",
    "    mse_baseline = sse_baseline / n\n",
    "    # baseline root mean squared error     \n",
    "    rmse_baseline = mse_baseline ** .5\n",
    "    \n",
    "    print(f'   Baseline Sum of Squared Errors (SSE): {sse_baseline:.2f}')\n",
    "    print(f'      Baseline Mean Squared Error (MSE): {mse_baseline:.2f}')\n",
    "    print(f'Baseline Root Mean Squared Error (RMSE): {rmse_baseline:.2f}')\n",
    "    "
   ]
  },
  {
   "cell_type": "code",
   "execution_count": null,
   "metadata": {},
   "outputs": [],
   "source": [
    "baseline_mean_errors(df, target)"
   ]
  },
  {
   "cell_type": "markdown",
   "metadata": {},
   "source": [
    "9. better_than_baseline(y, yhat): returns true if your model performs better than the baseline, otherwise false"
   ]
  },
  {
   "cell_type": "code",
   "execution_count": null,
   "metadata": {},
   "outputs": [],
   "source": []
  },
  {
   "cell_type": "code",
   "execution_count": null,
   "metadata": {},
   "outputs": [],
   "source": []
  },
  {
   "cell_type": "code",
   "execution_count": null,
   "metadata": {},
   "outputs": [],
   "source": []
  },
  {
   "cell_type": "markdown",
   "metadata": {},
   "source": [
    "10. Load the mpg dataset and fit a model that predicts highway mileage based on engine displacement. Take a look at all the regression evaluation metrics, and determine whether this model is better than the baseline model. Use the functions from your evaluate.py to help accomplish this."
   ]
  },
  {
   "cell_type": "code",
   "execution_count": null,
   "metadata": {},
   "outputs": [],
   "source": []
  }
 ],
 "metadata": {
  "kernelspec": {
   "display_name": "Python 3.8.5 64-bit ('base': conda)",
   "language": "python",
   "name": "python385jvsc74a57bd0b64057e63add2b45b1ffc7eab9b09c8889b419c878e2fdf0d08f837f0fc857a7"
  },
  "language_info": {
   "codemirror_mode": {
    "name": "ipython",
    "version": 3
   },
   "file_extension": ".py",
   "mimetype": "text/x-python",
   "name": "python",
   "nbconvert_exporter": "python",
   "pygments_lexer": "ipython3",
   "version": "3.8.5"
  }
 },
 "nbformat": 4,
 "nbformat_minor": 4
}
