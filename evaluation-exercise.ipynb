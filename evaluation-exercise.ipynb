{
 "cells": [
  {
   "cell_type": "markdown",
   "metadata": {},
   "source": [
    "# Regression Evaluation"
   ]
  },
  {
   "cell_type": "code",
   "execution_count": 1,
   "metadata": {},
   "outputs": [],
   "source": [
    "import math\n",
    "\n",
    "import matplotlib.pyplot as plt\n",
    "import numpy as np\n",
    "import pandas as pd\n",
    "import pydataset\n",
    "import scipy.stats as stats\n",
    "import sklearn.metrics\n",
    "from sklearn.linear_model import LinearRegression"
   ]
  },
  {
   "cell_type": "markdown",
   "metadata": {},
   "source": [
    "Punchline: is our model better than the model that just predicts the average?\n",
    "\n",
    "The best model we can make with no additional information: $\\hat{y} = \\bar{y}$"
   ]
  },
  {
   "cell_type": "markdown",
   "metadata": {},
   "source": [
    "**Baseline comes from train split!**"
   ]
  },
  {
   "cell_type": "markdown",
   "metadata": {},
   "source": [
    "## Setup / Functions"
   ]
  },
  {
   "cell_type": "code",
   "execution_count": 2,
   "metadata": {},
   "outputs": [],
   "source": [
    "def residuals(actual, predicted):\n",
    "    return actual - predicted\n",
    "\n",
    "def sse(actual, predicted):\n",
    "    return (residuals(actual, predicted) ** 2).sum()\n",
    "\n",
    "def mse(actual, predicted):\n",
    "    n = actual.shape[0]\n",
    "    return sse(actual, predicted) / n\n",
    "\n",
    "def rmse(actual, predicted):\n",
    "    return math.sqrt(mse(actual, predicted))\n",
    "\n",
    "def ess(actual, predicted):\n",
    "    return ((predicted - actual.mean()) ** 2).sum()\n",
    "\n",
    "def tss(actual):\n",
    "    return ((actual - actual.mean()) ** 2).sum()\n",
    "\n",
    "def r2_score(actual, predicted):\n",
    "    return ess(actual, predicted) / tss(actual)"
   ]
  },
  {
   "cell_type": "code",
   "execution_count": 3,
   "metadata": {},
   "outputs": [],
   "source": [
    "def plot_residuals(actual, predicted):\n",
    "    residuals = actual - predicted\n",
    "    plt.hlines(0, actual.min(), actual.max(), ls=':')\n",
    "    plt.scatter(actual, residuals)\n",
    "    plt.ylabel('residual ($y - \\hat{y}$)')\n",
    "    plt.xlabel('actual value ($y$)')\n",
    "    plt.title('Actual vs Residual')\n",
    "    return plt.gca()\n",
    "\n",
    "def regression_errors(actual, predicted):\n",
    "    return pd.Series({\n",
    "        'sse': sse(actual, predicted),\n",
    "        'ess': ess(actual, predicted),\n",
    "        'tss': tss(actual),\n",
    "        'mse': mse(actual, predicted),\n",
    "        'rmse': rmse(actual, predicted),\n",
    "        'r2': r2_score(actual, predicted),\n",
    "    })\n",
    "\n",
    "def baseline_mean_errors(actual):\n",
    "    predicted = actual.mean()\n",
    "    return {\n",
    "        'sse': sse(actual, predicted),\n",
    "        'mse': mse(actual, predicted),\n",
    "        'rmse': rmse(actual, predicted),\n",
    "    }\n",
    "\n",
    "def better_than_baseline(actual, predicted):\n",
    "    sse_baseline = sse(actual, actual.mean())\n",
    "    sse_model = sse(actual, predicted)\n",
    "    return sse_model < sse_baseline"
   ]
  },
  {
   "cell_type": "markdown",
   "metadata": {},
   "source": [
    "## Use the Functions"
   ]
  },
  {
   "cell_type": "markdown",
   "metadata": {},
   "source": [
    "### tips"
   ]
  },
  {
   "cell_type": "code",
   "execution_count": 4,
   "metadata": {},
   "outputs": [],
   "source": [
    "tips = pydataset.data('tips')\n",
    "model = LinearRegression().fit(tips[['total_bill']], tips.tip)"
   ]
  },
  {
   "cell_type": "code",
   "execution_count": 5,
   "metadata": {},
   "outputs": [
    {
     "data": {
      "text/plain": [
       "array([1.97051479, 3.02075996])"
      ]
     },
     "execution_count": 5,
     "metadata": {},
     "output_type": "execute_result"
    }
   ],
   "source": [
    "# we can use the fit model on new data\n",
    "new_data = pd.Series([10, 20], name='total_bill').values.reshape(-1, 1)\n",
    "model.predict(new_data)"
   ]
  },
  {
   "cell_type": "code",
   "execution_count": 6,
   "metadata": {},
   "outputs": [],
   "source": [
    "actual = tips.tip\n",
    "predicted = model.predict(tips[['total_bill']])"
   ]
  },
  {
   "cell_type": "code",
   "execution_count": 7,
   "metadata": {},
   "outputs": [],
   "source": [
    "model2 = LinearRegression().fit(tips[['size']], tips.tip)\n",
    "predicted2 = model2.predict(tips[['size']])"
   ]
  },
  {
   "cell_type": "code",
   "execution_count": 8,
   "metadata": {},
   "outputs": [
    {
     "data": {
      "text/plain": [
       "sse     353.834427\n",
       "ess     111.378050\n",
       "tss     465.212477\n",
       "mse       1.450141\n",
       "rmse      1.204218\n",
       "r2        0.239413\n",
       "dtype: float64"
      ]
     },
     "execution_count": 8,
     "metadata": {},
     "output_type": "execute_result"
    }
   ],
   "source": [
    "regression_errors(actual, predicted2)"
   ]
  },
  {
   "cell_type": "code",
   "execution_count": 9,
   "metadata": {},
   "outputs": [
    {
     "data": {
      "text/plain": [
       "sse     252.788744\n",
       "ess     212.423733\n",
       "tss     465.212477\n",
       "mse       1.036019\n",
       "rmse      1.017850\n",
       "r2        0.456617\n",
       "dtype: float64"
      ]
     },
     "execution_count": 9,
     "metadata": {},
     "output_type": "execute_result"
    }
   ],
   "source": [
    "regression_errors(actual, predicted)"
   ]
  },
  {
   "cell_type": "code",
   "execution_count": 10,
   "metadata": {},
   "outputs": [
    {
     "data": {
      "text/plain": [
       "True"
      ]
     },
     "execution_count": 10,
     "metadata": {},
     "output_type": "execute_result"
    }
   ],
   "source": [
    "regression_errors(actual, predicted)['sse'] < regression_errors(actual, predicted2)['sse']"
   ]
  },
  {
   "cell_type": "code",
   "execution_count": 11,
   "metadata": {},
   "outputs": [
    {
     "data": {
      "text/plain": [
       "True"
      ]
     },
     "execution_count": 11,
     "metadata": {},
     "output_type": "execute_result"
    }
   ],
   "source": [
    "better_than_baseline(actual, predicted)"
   ]
  },
  {
   "cell_type": "code",
   "execution_count": 12,
   "metadata": {},
   "outputs": [
    {
     "data": {
      "text/html": [
       "<div>\n",
       "<style scoped>\n",
       "    .dataframe tbody tr th:only-of-type {\n",
       "        vertical-align: middle;\n",
       "    }\n",
       "\n",
       "    .dataframe tbody tr th {\n",
       "        vertical-align: top;\n",
       "    }\n",
       "\n",
       "    .dataframe thead th {\n",
       "        text-align: right;\n",
       "    }\n",
       "</style>\n",
       "<table border=\"1\" class=\"dataframe\">\n",
       "  <thead>\n",
       "    <tr style=\"text-align: right;\">\n",
       "      <th></th>\n",
       "      <th>model 1 (tip ~ total_bill)</th>\n",
       "      <th>model 2 (tip ~ size)</th>\n",
       "      <th>baseline model</th>\n",
       "    </tr>\n",
       "  </thead>\n",
       "  <tbody>\n",
       "    <tr>\n",
       "      <th>sse</th>\n",
       "      <td>252.788744</td>\n",
       "      <td>353.834427</td>\n",
       "      <td>465.212477</td>\n",
       "    </tr>\n",
       "    <tr>\n",
       "      <th>ess</th>\n",
       "      <td>212.423733</td>\n",
       "      <td>111.378050</td>\n",
       "      <td>0.000000</td>\n",
       "    </tr>\n",
       "    <tr>\n",
       "      <th>tss</th>\n",
       "      <td>465.212477</td>\n",
       "      <td>465.212477</td>\n",
       "      <td>465.212477</td>\n",
       "    </tr>\n",
       "    <tr>\n",
       "      <th>mse</th>\n",
       "      <td>1.036019</td>\n",
       "      <td>1.450141</td>\n",
       "      <td>1.906609</td>\n",
       "    </tr>\n",
       "    <tr>\n",
       "      <th>rmse</th>\n",
       "      <td>1.017850</td>\n",
       "      <td>1.204218</td>\n",
       "      <td>1.380800</td>\n",
       "    </tr>\n",
       "    <tr>\n",
       "      <th>r2</th>\n",
       "      <td>0.456617</td>\n",
       "      <td>0.239413</td>\n",
       "      <td>0.000000</td>\n",
       "    </tr>\n",
       "  </tbody>\n",
       "</table>\n",
       "</div>"
      ],
      "text/plain": [
       "      model 1 (tip ~ total_bill)  model 2 (tip ~ size)  baseline model\n",
       "sse                   252.788744            353.834427      465.212477\n",
       "ess                   212.423733            111.378050        0.000000\n",
       "tss                   465.212477            465.212477      465.212477\n",
       "mse                     1.036019              1.450141        1.906609\n",
       "rmse                    1.017850              1.204218        1.380800\n",
       "r2                      0.456617              0.239413        0.000000"
      ]
     },
     "execution_count": 12,
     "metadata": {},
     "output_type": "execute_result"
    }
   ],
   "source": [
    "pd.DataFrame({\n",
    "    'model 1 (tip ~ total_bill)': regression_errors(actual, predicted),\n",
    "    'model 2 (tip ~ size)': regression_errors(actual, predicted2),\n",
    "    'baseline model': regression_errors(actual, np.repeat(actual.mean(), actual.shape[0]))\n",
    "})"
   ]
  },
  {
   "cell_type": "markdown",
   "metadata": {},
   "source": [
    "#### Sidenote: comparing our r2 to sklearn's"
   ]
  },
  {
   "cell_type": "code",
   "execution_count": 13,
   "metadata": {},
   "outputs": [],
   "source": [
    "sklearn_r2 = sklearn.metrics.r2_score(actual, predicted)"
   ]
  },
  {
   "cell_type": "code",
   "execution_count": 14,
   "metadata": {},
   "outputs": [],
   "source": [
    "our_r2 = r2_score(actual, predicted)"
   ]
  },
  {
   "cell_type": "code",
   "execution_count": 15,
   "metadata": {},
   "outputs": [
    {
     "data": {
      "text/plain": [
       "False"
      ]
     },
     "execution_count": 15,
     "metadata": {},
     "output_type": "execute_result"
    }
   ],
   "source": [
    "our_r2 == sklearn_r2"
   ]
  },
  {
   "cell_type": "code",
   "execution_count": 16,
   "metadata": {},
   "outputs": [
    {
     "data": {
      "text/plain": [
       "(0.45661658635167607, 0.45661658635167657)"
      ]
     },
     "execution_count": 16,
     "metadata": {},
     "output_type": "execute_result"
    }
   ],
   "source": [
    "our_r2, sklearn_r2"
   ]
  },
  {
   "cell_type": "code",
   "execution_count": 17,
   "metadata": {},
   "outputs": [
    {
     "data": {
      "text/plain": [
       "True"
      ]
     },
     "execution_count": 17,
     "metadata": {},
     "output_type": "execute_result"
    }
   ],
   "source": [
    "np.isclose(our_r2, sklearn_r2)"
   ]
  },
  {
   "cell_type": "code",
   "execution_count": 18,
   "metadata": {},
   "outputs": [
    {
     "name": "stdout",
     "output_type": "stream",
     "text": [
      "our mse 1.036019442011377\n",
      "sklearn 1.036019442011377\n"
     ]
    }
   ],
   "source": [
    "print('our mse', mse(actual, predicted))\n",
    "print('sklearn', sklearn.metrics.mean_squared_error(actual, predicted))"
   ]
  },
  {
   "cell_type": "markdown",
   "metadata": {},
   "source": [
    "### mpg"
   ]
  },
  {
   "cell_type": "code",
   "execution_count": 19,
   "metadata": {},
   "outputs": [],
   "source": [
    "mpg = pydataset.data('mpg')"
   ]
  },
  {
   "cell_type": "code",
   "execution_count": 20,
   "metadata": {},
   "outputs": [],
   "source": [
    "model = LinearRegression().fit(mpg[['displ']], mpg.hwy)"
   ]
  },
  {
   "cell_type": "code",
   "execution_count": 21,
   "metadata": {},
   "outputs": [],
   "source": [
    "actual = mpg.hwy # y\n",
    "predicted = model.predict(mpg[['displ']]) # yhat"
   ]
  },
  {
   "cell_type": "code",
   "execution_count": 22,
   "metadata": {},
   "outputs": [
    {
     "data": {
      "text/plain": [
       "sse     3413.829009\n",
       "ess     4847.833384\n",
       "tss     8261.662393\n",
       "mse       14.589013\n",
       "rmse       3.819557\n",
       "r2         0.586787\n",
       "dtype: float64"
      ]
     },
     "execution_count": 22,
     "metadata": {},
     "output_type": "execute_result"
    }
   ],
   "source": [
    "regression_errors(actual, predicted)"
   ]
  },
  {
   "cell_type": "code",
   "execution_count": 23,
   "metadata": {},
   "outputs": [
    {
     "data": {
      "text/plain": [
       "True"
      ]
     },
     "execution_count": 23,
     "metadata": {},
     "output_type": "execute_result"
    }
   ],
   "source": [
    "better_than_baseline(actual, predicted)"
   ]
  },
  {
   "cell_type": "code",
   "execution_count": 24,
   "metadata": {},
   "outputs": [
    {
     "data": {
      "text/plain": [
       "<matplotlib.collections.PathCollection at 0x7fc5704ff280>"
      ]
     },
     "execution_count": 24,
     "metadata": {},
     "output_type": "execute_result"
    },
    {
     "data": {
      "image/png": "[encoded data removed]",
      "text/plain": [
       "<Figure size 864x504 with 1 Axes>"
      ]
     },
     "metadata": {
      "needs_background": "light"
     },
     "output_type": "display_data"
    }
   ],
   "source": [
    "fig, ax = plt.subplots(figsize=(12, 7))\n",
    "ax.scatter(mpg.displ, mpg.hwy, label='actual')\n",
    "ax.scatter(mpg.displ, predicted, label='prediction')"
   ]
  },
  {
   "cell_type": "markdown",
   "metadata": {},
   "source": [
    "Sidenote: visualizing residuals w/ multiple independent variables"
   ]
  },
  {
   "cell_type": "code",
   "execution_count": 25,
   "metadata": {},
   "outputs": [
    {
     "data": {
      "text/plain": [
       "<matplotlib.collections.PathCollection at 0x7fc562fabdf0>"
      ]
     },
     "execution_count": 25,
     "metadata": {},
     "output_type": "execute_result"
    },
    {
     "data": {
      "image/png": "[encoded data removed]",
      "text/plain": [
       "<Figure size 432x288 with 1 Axes>"
      ]
     },
     "metadata": {
      "needs_background": "light"
     },
     "output_type": "display_data"
    }
   ],
   "source": [
    "plt.scatter(mpg.hwy, actual - predicted)"
   ]
  },
  {
   "cell_type": "code",
   "execution_count": 26,
   "metadata": {},
   "outputs": [
    {
     "data": {
      "text/plain": [
       "(array([15., 12., 18., 44., 48., 33., 29., 17.,  6.,  3.,  2.,  1.,  2.,\n",
       "         2.,  2.]),\n",
       " array([-7.10388366, -5.62959357, -4.15530348, -2.68101339, -1.2067233 ,\n",
       "         0.26756678,  1.74185687,  3.21614696,  4.69043705,  6.16472714,\n",
       "         7.63901723,  9.11330732, 10.58759741, 12.0618875 , 13.53617759,\n",
       "        15.01046768]),\n",
       " <BarContainer object of 15 artists>)"
      ]
     },
     "execution_count": 26,
     "metadata": {},
     "output_type": "execute_result"
    },
    {
     "data": {
      "image/png": "[encoded data removed]",
      "text/plain": [
       "<Figure size 432x288 with 1 Axes>"
      ]
     },
     "metadata": {
      "needs_background": "light"
     },
     "output_type": "display_data"
    }
   ],
   "source": [
    "plt.hist(actual - predicted, bins=15)"
   ]
  },
  {
   "cell_type": "code",
   "execution_count": null,
   "metadata": {},
   "outputs": [],
   "source": []
  }
 ],
 "metadata": {
  "kernelspec": {
   "display_name": "Python 3",
   "language": "python",
   "name": "python3"
  },
  "language_info": {
   "codemirror_mode": {
    "name": "ipython",
    "version": 3
   },
   "file_extension": ".py",
   "mimetype": "text/x-python",
   "name": "python",
   "nbconvert_exporter": "python",
   "pygments_lexer": "ipython3",
   "version": "3.8.5"
  }
 },
 "nbformat": 4,
 "nbformat_minor": 4
}
