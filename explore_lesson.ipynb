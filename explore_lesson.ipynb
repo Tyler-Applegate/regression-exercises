{
 "cells": [
  {
   "cell_type": "markdown",
   "metadata": {},
   "source": [
    "# Exploration\n",
    "\n",
    "Let's explore the interactions of all attributes and target variable to help discover drivers of our target variable. \n",
    "\n",
    "> \"Exploratory Data Analysis refers to the critical process of performing initial investigations on data so as to discover patterns, to spot anomalies, to test hypothesis, and to check assumptions with the help of summary statistics and graphical representations.\" - Prasad Patil"
   ]
  },
  {
   "cell_type": "code",
   "execution_count": 1,
   "metadata": {},
   "outputs": [],
   "source": [
    "import warnings\n",
    "warnings.filterwarnings(\"ignore\")\n",
    "\n",
    "import pandas as pd\n",
    "import numpy as np\n",
    "\n",
    "import matplotlib.pyplot as plt\n",
    "import seaborn as sns\n",
    "\n",
    "from sklearn.model_selection import train_test_split\n",
    "from scipy.stats import pearsonr, spearmanr\n",
    "\n",
    "import env\n",
    "import wrangle"
   ]
  },
  {
   "cell_type": "markdown",
   "metadata": {},
   "source": [
    "## Acquire and Prepare Data\n",
    "\n",
    "We will use the function we created and stored in our wrangle file to quickly acquire and prepare our student grades data."
   ]
  },
  {
   "cell_type": "code",
   "execution_count": 2,
   "metadata": {},
   "outputs": [
    {
     "data": {
      "text/html": [
       "<div>\n",
       "<style scoped>\n",
       "    .dataframe tbody tr th:only-of-type {\n",
       "        vertical-align: middle;\n",
       "    }\n",
       "\n",
       "    .dataframe tbody tr th {\n",
       "        vertical-align: top;\n",
       "    }\n",
       "\n",
       "    .dataframe thead th {\n",
       "        text-align: right;\n",
       "    }\n",
       "</style>\n",
       "<table border=\"1\" class=\"dataframe\">\n",
       "  <thead>\n",
       "    <tr style=\"text-align: right;\">\n",
       "      <th></th>\n",
       "      <th>student_id</th>\n",
       "      <th>exam1</th>\n",
       "      <th>exam2</th>\n",
       "      <th>exam3</th>\n",
       "      <th>final_grade</th>\n",
       "    </tr>\n",
       "  </thead>\n",
       "  <tbody>\n",
       "    <tr>\n",
       "      <th>0</th>\n",
       "      <td>1</td>\n",
       "      <td>100</td>\n",
       "      <td>90</td>\n",
       "      <td>95</td>\n",
       "      <td>96</td>\n",
       "    </tr>\n",
       "    <tr>\n",
       "      <th>1</th>\n",
       "      <td>2</td>\n",
       "      <td>98</td>\n",
       "      <td>93</td>\n",
       "      <td>96</td>\n",
       "      <td>95</td>\n",
       "    </tr>\n",
       "    <tr>\n",
       "      <th>2</th>\n",
       "      <td>3</td>\n",
       "      <td>85</td>\n",
       "      <td>83</td>\n",
       "      <td>87</td>\n",
       "      <td>87</td>\n",
       "    </tr>\n",
       "    <tr>\n",
       "      <th>3</th>\n",
       "      <td>4</td>\n",
       "      <td>83</td>\n",
       "      <td>80</td>\n",
       "      <td>86</td>\n",
       "      <td>85</td>\n",
       "    </tr>\n",
       "    <tr>\n",
       "      <th>4</th>\n",
       "      <td>5</td>\n",
       "      <td>93</td>\n",
       "      <td>90</td>\n",
       "      <td>96</td>\n",
       "      <td>97</td>\n",
       "    </tr>\n",
       "  </tbody>\n",
       "</table>\n",
       "</div>"
      ],
      "text/plain": [
       "   student_id  exam1  exam2  exam3  final_grade\n",
       "0           1    100     90     95           96\n",
       "1           2     98     93     96           95\n",
       "2           3     85     83     87           87\n",
       "3           4     83     80     86           85\n",
       "4           5     93     90     96           97"
      ]
     },
     "execution_count": 2,
     "metadata": {},
     "output_type": "execute_result"
    }
   ],
   "source": [
    "# Use our function from wrangle to acquire and prepare our data.\n",
    "\n",
    "df = wrangle.wrangle_grades()\n",
    "df.head()"
   ]
  },
  {
   "cell_type": "code",
   "execution_count": 3,
   "metadata": {},
   "outputs": [
    {
     "name": "stdout",
     "output_type": "stream",
     "text": [
      "<class 'pandas.core.frame.DataFrame'>\n",
      "Int64Index: 102 entries, 0 to 103\n",
      "Data columns (total 5 columns):\n",
      " #   Column       Non-Null Count  Dtype\n",
      "---  ------       --------------  -----\n",
      " 0   student_id   102 non-null    int64\n",
      " 1   exam1        102 non-null    int64\n",
      " 2   exam2        102 non-null    int64\n",
      " 3   exam3        102 non-null    int64\n",
      " 4   final_grade  102 non-null    int64\n",
      "dtypes: int64(5)\n",
      "memory usage: 4.8 KB\n"
     ]
    }
   ],
   "source": [
    "df.info()"
   ]
  },
  {
   "cell_type": "markdown",
   "metadata": {},
   "source": [
    "___"
   ]
  },
  {
   "cell_type": "markdown",
   "metadata": {},
   "source": [
    "## Main Stages in Exploration\n",
    "\n",
    "Let's check out the main stages in performing Exploratory Data Analysis, EDA, and run through some guidance for each stage. \n",
    "\n",
    "> “A hypothesis may be simply defined as a guess. A scientific hypothesis is an intelligent guess.” – Isaac Asimov\n",
    "\n",
    "**Hypothesize:** Form and document your initial hypotheses about how the predictors (independent variables, features, or attributes) interact with the target (y-value or dependent variable).\n",
    "- Document your initial hypotheses. Write them down so they're concrete and not in your head."
   ]
  },
  {
   "cell_type": "markdown",
   "metadata": {},
   "source": [
    "**Visualize:** Use visualization techniques (scatterplot, jointplot, pairgrid, heatmap) to identify drivers. Sometimes a visualization is so powerful that it can suffice in identifying a driver all on its own. Other times, a visualization needs to be followed up with a statistical test. When in doubt, follow up with the appropriate test. \n",
    "- Plot out the distributions of each feature. *This is critical b/c many of our statisitical tools and machine learning algorithms assume certain distributions. If your data isn't remotely normally distributed, then avoid using any tools that assume normally distributed data.*\n",
    "- Plot out the interaction of 2 or more variables.\n",
    "- Plot out how subgroups compare to each-other and to the overall population.\n",
    "- Document any surprises you may find in visualizing. This means write down your takeaways; documenting your takeaways is a huge component of your final deliverable/analysis. \n",
    "- Identitfy features that correlate with each other. If feature A and feature B are each tightly correlated with the target variable, but they're also tightly correlated with each other, we should use one feature that correlates better, rather than use both. "
   ]
  },
  {
   "cell_type": "markdown",
   "metadata": {},
   "source": [
    "**Test Your Hypotheses:** Analyze the drivers of a continuous target variable using the appropriate statistical tests (t-tests, correlation, and chi-squared hypothesis tests).\n",
    "> \"Hypothesis generation is a process beginning with an educated guess whereas hypothesis testing is a process to conclude that the educated guess is true/false or the relationship between the variables is statistically significant or not.\" [source](https://www.analyticsvidhya.com/blog/2020/09/hypothesis-generation-data-science-projects/)\n",
    "- Document your hypothesis test results. That means writing up when the tests reject the null hypothesis or fail to reject your null hypothesis for each hypothesis you make."
   ]
  },
  {
   "cell_type": "markdown",
   "metadata": {},
   "source": [
    "___"
   ]
  },
  {
   "cell_type": "markdown",
   "metadata": {},
   "source": [
    "## Types of Visualizations\n",
    "\n",
    "Here is a breakdown of visualization by type with some code useful snippets. Below, let's use the appropriate visualizations on our student grades dataset."
   ]
  },
  {
   "cell_type": "markdown",
   "metadata": {},
   "source": [
    "- **Univariate Distributions**\n",
    "    - Check out the distributions of a single variable at a time using pandas built-in plotting function to create a historgram or Seaborn `displot`, `boxplot`, or `countplot`; this can be done before splitting our data if we want.\n",
    "    - **Continuous variable distributions**\n",
    "    ```python\n",
    "     df.[col].hist(grid=False, bins=10)\n",
    "     sns.displot(x, data)\n",
    "     sns.boxplot(data)\n",
    "     ```\n",
    "     - **Discrete variable distributions**\n",
    "     ```python\n",
    "     sns.countplot(x='discrete_var', data)\n",
    "     ```"
   ]
  },
  {
   "cell_type": "markdown",
   "metadata": {},
   "source": [
    "- **Continuous with Continuous**\n",
    "    - Seaborn `pairplot` to create a scatter matrix visualizing all continous variable relationships along with individiual distributions.\n",
    "    ```python\n",
    "    sns.pairplot(data)\n",
    "    ```\n",
    "    - Seaborn `relplot` for a simple scatter plot of two continuous variables.\n",
    "    ```python\n",
    "    sns.relplot(x, y, data, kind=scatter)\n",
    "    ```\n",
    "    - Seaborn `lmplot` for a simple scatter plot of two continous variables with a regression line. I can pass a discrete variable to `col` or `hue` to bring in another dimension, too.\n",
    "    ```python\n",
    "    sns.lmplot(x, y, data, scatter=True, hue=None, col=None)\n",
    "    ```\n",
    "    - Seaborn `jointplot` for a simple scatter plot of two continuous variables with a regression line and the addition of a histogram for each variable.\n",
    "    ```python\n",
    "    sns.jointplot(x, y, data, kind=scatter)\n",
    "    ```\n",
    "    - Seaborn `heatmap` of Correlation Coefficients for all numeric columns in a dataset.\n",
    "    ```python\n",
    "    sns.heatmap(train.corr())\n",
    "    ```"
   ]
  },
  {
   "cell_type": "markdown",
   "metadata": {},
   "source": [
    "- **Discrete with Continuous**\n",
    "    - Seaborn `swarmplot` or `stripplot` to examine a discrete variable by a continuous.\n",
    "    ```python\n",
    "    sns.swarmplot(x='discrete_var', y='continuous_var', data=train)\n",
    "    sns.stripplot(x='discrete_var', y='continuous_var', data=train)\n",
    "    ```\n",
    "    - Seaborn `boxplot`, `violinplot`, or `barplot` to show the distribution of a continuous variable by a discrete variable.\n",
    "    ```python\n",
    "    sns.boxplot(x='discrete_var', y='continuous_var', data=train)\n",
    "    sns.violinplot(x='discrete_var', y='continuous_var', data=train)\n",
    "    sns.barplot(x='discrete_var', y='continuous_var', data=train)\n",
    "    ```"
   ]
  },
  {
   "cell_type": "markdown",
   "metadata": {},
   "source": [
    "- **Discrete with Discrete**\n",
    "    - Seaborn `heatmap` with a pandas `crosstab` to examine discrete variables with discrete.\n",
    "    ```python\n",
    "    ctab = pd.crosstab(index, columns, values)\n",
    "    sns.heatmap(ctab, annot=True)\n",
    "    ```\n",
    "\n",
    "Let's take a look at some common chart types by variable types."
   ]
  },
  {
   "cell_type": "markdown",
   "metadata": {},
   "source": [
    "___"
   ]
  },
  {
   "cell_type": "markdown",
   "metadata": {},
   "source": [
    "### Split Data\n",
    "\n",
    "Before we explore bi- and multi-variate relationships, we *must* split our data to avoid leakage of unseen data."
   ]
  },
  {
   "cell_type": "code",
   "execution_count": 4,
   "metadata": {},
   "outputs": [
    {
     "name": "stdout",
     "output_type": "stream",
     "text": [
      "train -> (56, 5)\n",
      "validate -> (25, 5)\n",
      "test -> (21, 5)\n"
     ]
    }
   ],
   "source": [
    "# Split into train, validate, and test sets; notice that we are keeping X and Y together so far.\n",
    "\n",
    "train, validate, test = wrangle.split_continuous(df)"
   ]
  },
  {
   "cell_type": "markdown",
   "metadata": {},
   "source": [
    "___"
   ]
  },
  {
   "cell_type": "markdown",
   "metadata": {},
   "source": [
    "## Goal\n",
    "\n",
    "Let's keep our goal from our student grades scenario in mind here.\n",
    "> I'm a university professor hoping I can build a prediction model that will be able to use these exams to predict the final grade within 5 points average per student.\n",
    "\n",
    "Since my target variable is continuous, `final_grade`, this is a regression problem. It's important to remember that Multiple linear regression analysis makes several key assumptions:\n",
    "\n",
    "- There must be a linear relationship between the outcome variable and the independent variables.  *Scatterplots can show whether there is a linear or curvilinear relationship.*\n",
    "- No Multicollinearity—Multiple regression assumes that the independent variables are not highly correlated with each other.\n",
    "- Multivariate Normality–Multiple regression assumes that the residuals are normally distributed."
   ]
  },
  {
   "cell_type": "markdown",
   "metadata": {},
   "source": [
    "## Hypothesize\n",
    "\n",
    "- My Null Hypothesis is that there is no correlation between the grades for `exam1` and `final grade`.\n",
    "- My Alternative Hypothesis is that `exam1`is correlated with `final grade`."
   ]
  },
  {
   "cell_type": "markdown",
   "metadata": {},
   "source": [
    "## Visualize and Test\n",
    "\n",
    "- To test my hypothesis, I'm going to create some visualizations and test statistics with my student grades data.\n",
    "- At the same time, I'll be checking that the key assumptions for multiple linear regression are met."
   ]
  },
  {
   "cell_type": "markdown",
   "metadata": {},
   "source": [
    "___"
   ]
  },
  {
   "cell_type": "markdown",
   "metadata": {},
   "source": [
    "### `sns.heatmap()`\n",
    "\n",
    "Let's look at a heatmap of the correlation coefficients for a dataset. [Here](https://towardsdatascience.com/all-about-heatmaps-bb7d97f099d7 ) is an aritcle with lots of heatmap customization options.\n",
    "\n",
    "- First, I need to calculate the correlation coefficient for each pair of variables.\n",
    "- Pandas `.corr()` method allows me to quickly create a correlation matrix by computing pairwise correlation of columns. By default, `method=pearson`.\n",
    "- I can change the `.corr()` argument to `method=spearman` if my variables are not normally distributed. Want to know more about the difference between pearson's r and spearman's rank? [This article](https://towardsdatascience.com/clearly-explained-pearson-v-s-spearman-correlation-coefficient-ada2f473b8) is short, sweet, and to the point."
   ]
  },
  {
   "cell_type": "code",
   "execution_count": 5,
   "metadata": {},
   "outputs": [
    {
     "data": {
      "text/html": [
       "<div>\n",
       "<style scoped>\n",
       "    .dataframe tbody tr th:only-of-type {\n",
       "        vertical-align: middle;\n",
       "    }\n",
       "\n",
       "    .dataframe tbody tr th {\n",
       "        vertical-align: top;\n",
       "    }\n",
       "\n",
       "    .dataframe thead th {\n",
       "        text-align: right;\n",
       "    }\n",
       "</style>\n",
       "<table border=\"1\" class=\"dataframe\">\n",
       "  <thead>\n",
       "    <tr style=\"text-align: right;\">\n",
       "      <th></th>\n",
       "      <th>exam1</th>\n",
       "      <th>exam2</th>\n",
       "      <th>exam3</th>\n",
       "      <th>final_grade</th>\n",
       "    </tr>\n",
       "  </thead>\n",
       "  <tbody>\n",
       "    <tr>\n",
       "      <th>exam1</th>\n",
       "      <td>1.000000</td>\n",
       "      <td>0.933046</td>\n",
       "      <td>0.946724</td>\n",
       "      <td>0.981974</td>\n",
       "    </tr>\n",
       "    <tr>\n",
       "      <th>exam2</th>\n",
       "      <td>0.933046</td>\n",
       "      <td>1.000000</td>\n",
       "      <td>0.937152</td>\n",
       "      <td>0.916092</td>\n",
       "    </tr>\n",
       "    <tr>\n",
       "      <th>exam3</th>\n",
       "      <td>0.946724</td>\n",
       "      <td>0.937152</td>\n",
       "      <td>1.000000</td>\n",
       "      <td>0.953543</td>\n",
       "    </tr>\n",
       "    <tr>\n",
       "      <th>final_grade</th>\n",
       "      <td>0.981974</td>\n",
       "      <td>0.916092</td>\n",
       "      <td>0.953543</td>\n",
       "      <td>1.000000</td>\n",
       "    </tr>\n",
       "  </tbody>\n",
       "</table>\n",
       "</div>"
      ],
      "text/plain": [
       "                exam1     exam2     exam3  final_grade\n",
       "exam1        1.000000  0.933046  0.946724     0.981974\n",
       "exam2        0.933046  1.000000  0.937152     0.916092\n",
       "exam3        0.946724  0.937152  1.000000     0.953543\n",
       "final_grade  0.981974  0.916092  0.953543     1.000000"
      ]
     },
     "execution_count": 5,
     "metadata": {},
     "output_type": "execute_result"
    }
   ],
   "source": [
    "# Create the correlation matrix for all exams.\n",
    "\n",
    "exam_corr = train.drop(columns=['student_id']).corr()\n",
    "exam_corr"
   ]
  },
  {
   "cell_type": "markdown",
   "metadata": {},
   "source": [
    "- Next, I pass my correlation matrix to Seaborn's `heatmap` along with any customization I want to perform."
   ]
  },
  {
   "cell_type": "code",
   "execution_count": 6,
   "metadata": {},
   "outputs": [
    {
     "data": {
      "image/png": "[encoded data removed]",
      "text/plain": [
       "<Figure size 576x432 with 2 Axes>"
      ]
     },
     "metadata": {
      "needs_background": "light"
     },
     "output_type": "display_data"
    }
   ],
   "source": [
    "plt.figure(figsize=(8,6))\n",
    "sns.heatmap(exam_corr, cmap='Purples', annot=True, linewidth=0.5, mask= np.triu(exam_corr))\n",
    "plt.ylim(0, 4)\n",
    "\n",
    "plt.show()"
   ]
  },
  {
   "cell_type": "code",
   "execution_count": 7,
   "metadata": {},
   "outputs": [
    {
     "data": {
      "image/png": "[encoded data removed]",
      "text/plain": [
       "<Figure size 576x432 with 2 Axes>"
      ]
     },
     "metadata": {
      "needs_background": "light"
     },
     "output_type": "display_data"
    }
   ],
   "source": [
    "# Pass my correlation matrix to Seaborn's heatmap.\n",
    "\n",
    "kwargs = {'alpha':.9,'linewidth':3, 'linestyle':'-', \n",
    "          'linecolor':'k','rasterized':False, 'edgecolor':'w', \n",
    "          'capstyle':'projecting',}\n",
    "\n",
    "plt.figure(figsize=(8,6))\n",
    "sns.heatmap(exam_corr, cmap='Purples', annot=True, mask= np.triu(exam_corr), **kwargs)\n",
    "plt.ylim(0, 4)\n",
    "\n",
    "plt.show()"
   ]
  },
  {
   "cell_type": "code",
   "execution_count": 8,
   "metadata": {},
   "outputs": [
    {
     "name": "stdout",
     "output_type": "stream",
     "text": [
      "Correlation Coefficient: 0.9819741714977531\n",
      "P-value: 9.37913560694547e-41\n"
     ]
    }
   ],
   "source": [
    "# Use a scipy stats function pearsonr to calculate the correlation coefficient and the p-value.\n",
    "\n",
    "r, p_value = pearsonr(train.exam1, train.final_grade)\n",
    "print(f'Correlation Coefficient: {r}\\nP-value: {p_value}')"
   ]
  },
  {
   "cell_type": "code",
   "execution_count": 9,
   "metadata": {},
   "outputs": [
    {
     "data": {
      "text/html": [
       "<div>\n",
       "<style scoped>\n",
       "    .dataframe tbody tr th:only-of-type {\n",
       "        vertical-align: middle;\n",
       "    }\n",
       "\n",
       "    .dataframe tbody tr th {\n",
       "        vertical-align: top;\n",
       "    }\n",
       "\n",
       "    .dataframe thead th {\n",
       "        text-align: right;\n",
       "    }\n",
       "</style>\n",
       "<table border=\"1\" class=\"dataframe\">\n",
       "  <thead>\n",
       "    <tr style=\"text-align: right;\">\n",
       "      <th></th>\n",
       "      <th>exam1</th>\n",
       "      <th>exam2</th>\n",
       "      <th>exam3</th>\n",
       "      <th>final_grade</th>\n",
       "    </tr>\n",
       "  </thead>\n",
       "  <tbody>\n",
       "    <tr>\n",
       "      <th>exam1</th>\n",
       "      <td>1.000000</td>\n",
       "      <td>0.898881</td>\n",
       "      <td>0.866491</td>\n",
       "      <td>0.960113</td>\n",
       "    </tr>\n",
       "    <tr>\n",
       "      <th>exam2</th>\n",
       "      <td>0.898881</td>\n",
       "      <td>1.000000</td>\n",
       "      <td>0.889573</td>\n",
       "      <td>0.827804</td>\n",
       "    </tr>\n",
       "    <tr>\n",
       "      <th>exam3</th>\n",
       "      <td>0.866491</td>\n",
       "      <td>0.889573</td>\n",
       "      <td>1.000000</td>\n",
       "      <td>0.899198</td>\n",
       "    </tr>\n",
       "    <tr>\n",
       "      <th>final_grade</th>\n",
       "      <td>0.960113</td>\n",
       "      <td>0.827804</td>\n",
       "      <td>0.899198</td>\n",
       "      <td>1.000000</td>\n",
       "    </tr>\n",
       "  </tbody>\n",
       "</table>\n",
       "</div>"
      ],
      "text/plain": [
       "                exam1     exam2     exam3  final_grade\n",
       "exam1        1.000000  0.898881  0.866491     0.960113\n",
       "exam2        0.898881  1.000000  0.889573     0.827804\n",
       "exam3        0.866491  0.889573  1.000000     0.899198\n",
       "final_grade  0.960113  0.827804  0.899198     1.000000"
      ]
     },
     "execution_count": 9,
     "metadata": {},
     "output_type": "execute_result"
    }
   ],
   "source": [
    "# Since my variables are not normally distributed, I might choose Spearman instead.\n",
    "\n",
    "exam_spearman = train.drop(columns=['student_id']).corr(method='spearman')\n",
    "exam_spearman"
   ]
  },
  {
   "cell_type": "markdown",
   "metadata": {},
   "source": [
    "- My numbers come out pretty close to the same here."
   ]
  },
  {
   "cell_type": "code",
   "execution_count": 10,
   "metadata": {},
   "outputs": [
    {
     "data": {
      "image/png": "[encoded data removed]",
      "text/plain": [
       "<Figure size 576x432 with 2 Axes>"
      ]
     },
     "metadata": {
      "needs_background": "light"
     },
     "output_type": "display_data"
    }
   ],
   "source": [
    "plt.figure(figsize=(8,6))\n",
    "sns.heatmap(exam_spearman, cmap='Purples', annot=True, linewidth=0.5, mask= np.triu(exam_corr))\n",
    "plt.ylim(0, 4)\n",
    "\n",
    "plt.show()"
   ]
  },
  {
   "cell_type": "code",
   "execution_count": 11,
   "metadata": {},
   "outputs": [
    {
     "name": "stdout",
     "output_type": "stream",
     "text": [
      "Correlation Coefficient: 0.9601127999920316\n",
      "P-value: 1.4616710598941904e-31\n"
     ]
    }
   ],
   "source": [
    "# Use a scipy stats function spearmanr to calculate the correlation coefficient and the p-value.\n",
    "\n",
    "r, p_value = spearmanr(train.exam1, train.final_grade)\n",
    "print(f'Correlation Coefficient: {r}\\nP-value: {p_value}')"
   ]
  },
  {
   "cell_type": "markdown",
   "metadata": {},
   "source": [
    "#### Heatmap Takeaways\n",
    "\n",
    "- Although all of the exams have very high positive correlations with the target variable, `exam1` and `final_grade` are almost perfectly correlated. This looks to be the best predictor of our target variable.\n",
    "- Based on my correlation coefficient and my p-value, **I reject my Null hypothesis that there is no correlation between `exam1` and `final_grade`.**\n",
    "- Looking at the correlation between our independent variables, they also have high positive correlations with each other, multicollinearity. This informs me that I don't want to use all of them together in a linear regression model. \n",
    "- I will choose `exam1` and perform a simple linear regression first. If I want to go back and do some feature engineering with my other independent variables, I could do that and see if I can improve on my accuracy."
   ]
  },
  {
   "cell_type": "markdown",
   "metadata": {},
   "source": [
    "### `sns.relplot()`\n",
    "\n",
    "Let's do a simple scatter plot of two continuous variables in our dataset."
   ]
  },
  {
   "cell_type": "code",
   "execution_count": 12,
   "metadata": {},
   "outputs": [
    {
     "data": {
      "image/png": "[encoded data removed]",
      "text/plain": [
       "<Figure size 360x360 with 1 Axes>"
      ]
     },
     "metadata": {
      "needs_background": "light"
     },
     "output_type": "display_data"
    }
   ],
   "source": [
    "sns.relplot(x=\"exam1\", y=\"final_grade\", data=train)\n",
    "plt.show()"
   ]
  },
  {
   "cell_type": "markdown",
   "metadata": {},
   "source": [
    "### `sns.lmplot()`\n",
    "\n",
    "Let's make that simple scatter plot but add a regression line."
   ]
  },
  {
   "cell_type": "code",
   "execution_count": 13,
   "metadata": {},
   "outputs": [
    {
     "data": {
      "image/png": "[encoded data removed]",
      "text/plain": [
       "<Figure size 360x360 with 1 Axes>"
      ]
     },
     "metadata": {
      "needs_background": "light"
     },
     "output_type": "display_data"
    }
   ],
   "source": [
    "# I can really pop that line color if I want.\n",
    "\n",
    "sns.lmplot(x=\"exam1\", y=\"final_grade\", data=train, line_kws={'color': 'red'})\n",
    "plt.show()"
   ]
  },
  {
   "cell_type": "markdown",
   "metadata": {},
   "source": [
    "### `sns.jointplot()`\n",
    "\n",
    "Let's use a `sns.jointplot()` with `kind=reg` to view individual variable distributions for our x and y along with a scatter plot with regression line."
   ]
  },
  {
   "cell_type": "code",
   "execution_count": 14,
   "metadata": {},
   "outputs": [
    {
     "data": {
      "image/png": "[encoded data removed]",
      "text/plain": [
       "<Figure size 360x360 with 3 Axes>"
      ]
     },
     "metadata": {},
     "output_type": "display_data"
    }
   ],
   "source": [
    "with sns.axes_style('white'):\n",
    "    j = sns.jointplot(x=\"exam1\", y=\"final_grade\", data=train,  kind='reg', height=5);\n",
    "plt.show()"
   ]
  },
  {
   "cell_type": "markdown",
   "metadata": {},
   "source": [
    "#### Takeaways\n",
    "\n",
    "- My `relplot`, `lmplot`, and `joinplots` charts show me that there is a linear relationship between `exam1` and `final_grade`."
   ]
  },
  {
   "cell_type": "markdown",
   "metadata": {},
   "source": [
    "### `sns.pairplot()`\n",
    "\n",
    "Let's use `sns.pairplot()` to view a scatter plot visualizing the relationships between all of the numeric columns in our dataset all at once as well as individual distributions for each individual column."
   ]
  },
  {
   "cell_type": "code",
   "execution_count": 15,
   "metadata": {},
   "outputs": [
    {
     "data": {
      "image/png": "[encoded data removed]",
      "text/plain": [
       "<Figure size 720x720 with 14 Axes>"
      ]
     },
     "metadata": {
      "needs_background": "light"
     },
     "output_type": "display_data"
    }
   ],
   "source": [
    "# We can drop the redundant information in the upper right half of the chart if we like.\n",
    "\n",
    "sns.pairplot(train[['exam1', 'exam2', 'exam3', 'final_grade']], corner=True)\n",
    "plt.show()"
   ]
  },
  {
   "cell_type": "markdown",
   "metadata": {},
   "source": [
    "## Additional thoughts\n",
    "- Identify if there are logical/domain/cultural cutoffs in continuous variables that would allow us to treat them as categorial values. For example, 98.45 and 99.1 are both an A or an A+ grade in most scales.\n",
    "- If there's a logical cutoff point, like a grade of 70 or a voting age of 18, we can make a boolean to go along with a continuous value. This can allow us to gain additional insight in visualizing distributions between groups."
   ]
  },
  {
   "cell_type": "markdown",
   "metadata": {},
   "source": [
    "## Further Reading\n",
    "\n",
    "- [Visualization with Seaborn Demos](https://jakevdp.github.io/PythonDataScienceHandbook/04.14-visualization-with-seaborn.html)\n",
    "- <https://towardsdatascience.com/exploratory-data-analysis-8fc1cb20fd15>\n",
    "- <https://www.itl.nist.gov/div898/handbook/index.htm>\n",
    "- <https://adataanalyst.com/data-analysis-resources/visualise-categorical-variables-in-python/>\n",
    "- Boxplot vs. Violin example https://matplotlib.org/3.2.1/gallery/statistics/boxplot_vs_violin.html\n",
    "- https://datavizcatalogue.com/"
   ]
  },
  {
   "cell_type": "markdown",
   "metadata": {},
   "source": [
    "___"
   ]
  },
  {
   "cell_type": "markdown",
   "metadata": {},
   "source": [
    "## Exercises I - Required\n",
    "\n",
    "Our Telco scenario continues:\n",
    "\n",
    "As a customer analyst for Telco, you want to know who has spent the most money with the company over their lifetime. You have monthly charges and tenure, so you think you will be able to use those two attributes as features to estimate total charges. You need to do this within an average of $5.00 per customer. \n",
    "\n",
    "In these exercises, you will run through the stages of exploration as you continue to work toward the above goal.\n",
    "\n",
    "Do your work in a notebook named `explore.ipynb`. In addition, you should create a file named `explore.py` that contains the following functions for exploring your variables (features & target).\n",
    "\n",
    "1. Make sure to perform a train, validate, test split before and use only your train dataset to explore the relationships between independent variables with other independent variables or independent variables with your target variable.\n",
    "\n",
    "1. Write a function named `plot_variable_pairs` that accepts a dataframe as input and plots all of the pairwise relationships along with the regression line for each pair.\n",
    "\n",
    "1. Write a function named `months_to_years` that accepts your telco churn dataframe and returns a dataframe with a new feature `tenure_years`, in complete years as a customer.\n",
    "\n",
    "1. Write a function named `plot_categorical_and_continuous_vars` that accepts your dataframe and the name of the columns that hold the continuous and categorical features and outputs 3 different plots for visualizing a categorical variable and a continuous variable.\n",
    "\n",
    "1. Save the functions you have written to create visualizations in your `explore.py` file. Rewrite your notebook code so that you are using the functions imported from this file.\n",
    "\n",
    "1. Explore your dataset with any other visualizations you think will be helpful.\n",
    "\n",
    "1. In a seperate notebook, use the functions you have developed in this exercise with the `mall_customers` dataset in the Codeup database server. You will need to write a sql query to acquire your data. Make `spending_score` your target variable."
   ]
  },
  {
   "cell_type": "markdown",
   "metadata": {},
   "source": [
    "___"
   ]
  },
  {
   "cell_type": "markdown",
   "metadata": {},
   "source": [
    "## Exercises II - Challenge\n",
    "\n",
    "Our Zillow scenario continues:\n",
    "\n",
    "As a Codeup data science graduate, you want to show off your skills to the Zillow data science team in hopes of getting an interview for a position you saw pop up on LinkedIn. You thought it might look impressive to build an end-to-end project in which you use some of their Kaggle data to predict property values using some of their available features; who knows, you might even do some feature engineering to blow them away. Your goal is to predict the values of single unit properties using the observations from 2017.\n",
    "\n",
    "In these exercises, you will run through the stages of exploration as you continue to work toward the above goal.\n",
    "\n",
    "1. Use the functions you created above to explore your Zillow train dataset in your `explore.ipynb` notebook.\n",
    "\n",
    "1. Come up with some initial hypotheses based on your goal of predicting property value.\n",
    "\n",
    "1. Visualize all combinations of variables in some way.\n",
    "\n",
    "1. Run the appropriate statistical tests where needed.\n",
    "\n",
    "1. What independent variables are correlated with the dependent variable, home value?\n",
    "\n",
    "1. Which independent variables are correlated with other independent variables (bedrooms, bathrooms, year built, square feet)?\n",
    "\n",
    "1. Make sure to document your takeaways from visualizations and statistical tests as well as the decisions you make throughout your process."
   ]
  }
 ],
 "metadata": {
  "kernelspec": {
   "display_name": "Python 3",
   "language": "python",
   "name": "python3"
  },
  "language_info": {
   "codemirror_mode": {
    "name": "ipython",
    "version": 3
   },
   "file_extension": ".py",
   "mimetype": "text/x-python",
   "name": "python",
   "nbconvert_exporter": "python",
   "pygments_lexer": "ipython3",
   "version": "3.8.5"
  }
 },
 "nbformat": 4,
 "nbformat_minor": 4
}
